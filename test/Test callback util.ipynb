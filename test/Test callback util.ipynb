{
 "cells": [
  {
   "cell_type": "code",
   "execution_count": null,
   "metadata": {
    "collapsed": false,
    "deletable": true,
    "editable": true
   },
   "outputs": [],
   "source": [
    "import sys\n",
    "sys.path = ['../'] + sys.path # prepending\n",
    "\n",
    "import numpy as np\n",
    "import genericFISTA\n",
    "import fistasolvers # old version, import for comparison and reuse a function\n",
    "\n",
    "import plotly.offline as py\n",
    "import plotly.tools as tls\n",
    "py.init_notebook_mode()\n",
    "genericFISTA.__file__"
   ]
  },
  {
   "cell_type": "code",
   "execution_count": null,
   "metadata": {
    "collapsed": false,
    "deletable": true,
    "editable": true
   },
   "outputs": [],
   "source": [
    "Logs = genericFISTA.FISTA.getInitialLogs(to_log_all_x=True)\n",
    "Logs['objLog'] = []\n",
    "Logs['objFLog'] = []\n",
    "#callback = genericFISTA.getPlotlyCallback(Logs, [('x min', np.min)])\n",
    "def makeImg(x):\n",
    "    return x[:,np.newaxis] * x[np.newaxis,:]\n",
    "\n",
    "callback = genericFISTA.CallBack(Logs, extras_to_plot=[('x min', np.min,'scatter'), \n",
    "                                                       ('test img', makeImg, 'heatmap')])"
   ]
  },
  {
   "cell_type": "code",
   "execution_count": null,
   "metadata": {
    "collapsed": false,
    "deletable": true,
    "editable": true
   },
   "outputs": [],
   "source": [
    "# callback._fig['data'][-1]['colorbar']['x'] = 0.5\n",
    "# callback._fig['data'][-1]['colorbar']['y'] = 0.5"
   ]
  },
  {
   "cell_type": "code",
   "execution_count": null,
   "metadata": {
    "collapsed": false
   },
   "outputs": [],
   "source": [
    "callback._fig['data'][-1]['colorbar'].update(dict(x=0.5))"
   ]
  },
  {
   "cell_type": "code",
   "execution_count": null,
   "metadata": {
    "collapsed": false
   },
   "outputs": [],
   "source": [
    "callback._fig['data'][-1]"
   ]
  },
  {
   "cell_type": "code",
   "execution_count": null,
   "metadata": {
    "collapsed": false,
    "deletable": true,
    "editable": true,
    "scrolled": false
   },
   "outputs": [],
   "source": [
    "l1mu = 1.0e-2\n",
    "\n",
    "# setup for old fista\n",
    "dims = (5,6)\n",
    "np.random.seed((3,21,4,223))\n",
    "A = np.random.rand(*dims)\n",
    "b = np.random.rand(dims[0])\n",
    "\n",
    "\n",
    "# setup for new fista\n",
    "import time\n",
    "f = lambda x: 0.5*np.linalg.norm(A.dot(x) - b)**2\n",
    "gradf = lambda x: A.T.dot(A.dot(x) - b)\n",
    "g = lambda x: l1mu*np.linalg.norm(x,1)\n",
    "# proxg = lambda alpha, x: fistasolvers.soft_threshold(x, alpha*l1mu)\n",
    "def proxg(alpha, x):\n",
    "    time.sleep(0.5)\n",
    "    return fistasolvers.soft_threshold(x, alpha*l1mu)\n",
    "\n",
    "fistaObj = genericFISTA.FISTA(f, gradf, g, proxg, gradf_take_cache=False)\n",
    "fistaObj.solve(x_init=np.zeros(dims[1], dtype=np.float64), max_iter=10, L0=1.0, ls_red_coef=1.5, \n",
    "               ls_inc_mode={'stopAtIter':0},\n",
    "               ls_to_print=False,\n",
    "               verbose=False, \n",
    "               callback=callback,\n",
    "               **Logs)"
   ]
  },
  {
   "cell_type": "code",
   "execution_count": null,
   "metadata": {
    "collapsed": true,
    "deletable": true,
    "editable": true
   },
   "outputs": [],
   "source": []
  }
 ],
 "metadata": {
  "kernelspec": {
   "display_name": "Python 3",
   "language": "python",
   "name": "python3"
  },
  "language_info": {
   "codemirror_mode": {
    "name": "ipython",
    "version": 3
   },
   "file_extension": ".py",
   "mimetype": "text/x-python",
   "name": "python",
   "nbconvert_exporter": "python",
   "pygments_lexer": "ipython3",
   "version": "3.6.0"
  }
 },
 "nbformat": 4,
 "nbformat_minor": 0
}
