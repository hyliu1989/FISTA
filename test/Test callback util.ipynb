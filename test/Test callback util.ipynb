{
 "cells": [
  {
   "cell_type": "code",
   "execution_count": null,
   "metadata": {
    "collapsed": false
   },
   "outputs": [],
   "source": [
    "import sys\n",
    "sys.path.append('../')\n",
    "\n",
    "import numpy as np\n",
    "import genericFISTA\n",
    "import fistasolvers\n",
    "\n",
    "import plotly.offline as py\n",
    "py.init_notebook_mode()"
   ]
  },
  {
   "cell_type": "code",
   "execution_count": null,
   "metadata": {
    "collapsed": false
   },
   "outputs": [],
   "source": [
    "Logs = genericFISTA.initializeLogs(to_log_all_x=True)\n",
    "Logs['objLog'] = []\n",
    "Logs['objFLog'] = []\n",
    "callback = genericFISTA.getPlotlyCallback(Logs, [('x min', np.min)])"
   ]
  },
  {
   "cell_type": "code",
   "execution_count": null,
   "metadata": {
    "collapsed": false
   },
   "outputs": [],
   "source": [
    "l1mu = 1.0e-2\n",
    "\n",
    "# setup for old fista\n",
    "dims = (5,6)\n",
    "np.random.seed((3,21,4,223))\n",
    "A = np.random.rand(*dims)\n",
    "b = np.random.rand(dims[0])\n",
    "\n",
    "\n",
    "# setup for new fista\n",
    "f = lambda x: 0.5*np.linalg.norm(A.dot(x) - b)**2\n",
    "gradf = lambda x: A.T.dot(A.dot(x) - b)\n",
    "g = lambda x: l1mu*np.linalg.norm(x,1)\n",
    "proxg = lambda alpha, x: fistasolvers.soft_threshold(x, alpha*l1mu)\n",
    "\n",
    "fistaObj = genericFISTA.FISTA(f, gradf, g, proxg, gradf_take_cache=False)\n",
    "fistaObj.solve(x_init=np.zeros(dims[1], dtype=np.float64), max_iter=50, L0=1.0, ls_red_coef=1.5, \n",
    "               ls_inc_mode={'stopAtIter':0}, \n",
    "               #verbose=True, \n",
    "               callback=callback,\n",
    "               **Logs)"
   ]
  },
  {
   "cell_type": "code",
   "execution_count": null,
   "metadata": {
    "collapsed": false
   },
   "outputs": [],
   "source": [
    "Logs['objFLog_inexact']"
   ]
  },
  {
   "cell_type": "code",
   "execution_count": null,
   "metadata": {
    "collapsed": true
   },
   "outputs": [],
   "source": []
  }
 ],
 "metadata": {
  "kernelspec": {
   "display_name": "Python 3",
   "language": "python",
   "name": "python3"
  },
  "language_info": {
   "codemirror_mode": {
    "name": "ipython",
    "version": 3
   },
   "file_extension": ".py",
   "mimetype": "text/x-python",
   "name": "python",
   "nbconvert_exporter": "python",
   "pygments_lexer": "ipython3",
   "version": "3.4.4"
  }
 },
 "nbformat": 4,
 "nbformat_minor": 0
}
